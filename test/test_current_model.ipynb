{
 "cells": [
  {
   "cell_type": "code",
   "execution_count": 1,
   "outputs": [],
   "source": [
    "%matplotlib inline\n",
    "import numpy as np\n",
    "import matplotlib.pyplot as plt\n",
    "from lib.SciTech2022_inference import current_model\n",
    "from lib.esi_surrogate import forward"
   ],
   "metadata": {
    "collapsed": false,
    "pycharm": {
     "name": "#%%\n"
    }
   }
  },
  {
   "cell_type": "code",
   "execution_count": 5,
   "outputs": [],
   "source": [
    "# Deterministic emitter array\n",
    "Nr = 1  # number of realizations\n",
    "Ne = 576  # number of emitters\n",
    "Nv = 1000  # number of voltages to evaluate at\n",
    "\n",
    "# Model parameters (zeta_1, zeta_2, b_0)\n",
    "params = np.array([1.17815344, 7.34716087e-03, 7.00033136e-06])\n",
    "# params = np.array([2.57, 1.69e-2, 2e-5])\n",
    "\n",
    "# Voltage prediction locations\n",
    "voltage = np.linspace(0, 2000, Nv)\n",
    "\n",
    "# Substrate properties\n",
    "rp = np.mean([5e-6, 8e-6])  # pore radius [m]\n",
    "kappa = 1.51e-13  # permittivity [m^-2]\n",
    "subs = np.array([[rp], [kappa]])\n",
    "subs.reshape(2, Nr)\n",
    "\n",
    "# Material properties\n",
    "k = np.mean([1.147, 1.39])  # conductivity [Sm^-1]\n",
    "gamma = np.mean([5.003e-2, 5.045e-2])  # surface tension [N/m]\n",
    "rho = np.mean([1.28e3, 1.284e3])  # density [kg/m^3]\n",
    "mu = np.mean([2.612e-2, 3.416e-2])  # viscosity [N-s/m^2]\n",
    "props = np.array([k, gamma, rho, mu]).T.reshape(4, Nr)\n",
    "\n",
    "# Propellant properties\n",
    "qm_ratio = 5.5e5  # charge to mass ratio [C/kg]\n",
    "beams = np.array([qm_ratio]).reshape(1, Nr)\n",
    "\n",
    "# Geometry parameters\n",
    "rc = np.mean([1e-5, 2e-5])\n",
    "d = 3e-6\n",
    "ra = 2.486e-4\n",
    "alpha = 2.678e-1\n",
    "h = 3.018e-4\n",
    "rpl = 6.5e-7\n",
    "geoms = np.array([rc, d, ra, alpha, h, rpl])\n",
    "geoms = np.tile(geoms[:, np.newaxis], (1, Ne)).reshape(6, Ne, Nr)\n",
    "\n",
    "# Get surrogate electric field solution\n",
    "emitter_geo = np.array([d, rc, alpha, h, ra])\n",
    "V0 = 1000\n",
    "Emax = forward(emitter_geo, net_file='../lib/esi_surrogate.onnx', V0=V0)\n",
    "# es_model = np.ones((1,Ne,Nr))*Emax / V0\n",
    "es_model = np.ones((1, Ne, Nr)) * (4.614e7 / V0)"
   ],
   "metadata": {
    "collapsed": false,
    "pycharm": {
     "name": "#%%\n"
    }
   }
  },
  {
   "cell_type": "code",
   "execution_count": 6,
   "outputs": [
    {
     "data": {
      "text/plain": "<Figure size 432x288 with 1 Axes>",
      "image/png": "[encoded data removed]"
     },
     "metadata": {
      "needs_background": "light"
     },
     "output_type": "display_data"
    }
   ],
   "source": [
    "current = current_model(params, voltage, subs, props, beams, geoms, es_models=es_model)\n",
    "fig = plt.figure()\n",
    "plt.plot(voltage, current)\n",
    "plt.xlabel('Voltage [V]')\n",
    "plt.ylabel('Current [A]')\n",
    "plt.show()"
   ],
   "metadata": {
    "collapsed": false,
    "pycharm": {
     "name": "#%%\n"
    }
   }
  },
  {
   "cell_type": "code",
   "execution_count": 2,
   "outputs": [],
   "source": [
    "def geom_sampler(Ne, Nr):\n",
    "    rc = np.random.rand(1, Ne, Nr) * (2e-5 - 1e-5) + 1e-5\n",
    "    d = np.random.randn(1, Ne, Nr) * 5.23e-6 + 3e-6\n",
    "    ra = np.random.randn(1, Ne, Nr) * 3.596e-6 + 2.486e-4\n",
    "    alpha = np.random.randn(1, Ne, Nr) * 4e-3 + 0.2678\n",
    "    h = np.random.randn(1, Ne, Nr) * 5.13e-6 + 3.018e-4\n",
    "    rp = np.random.randn(1, Ne, Nr) * 7.5e-8 + 6.5e-7\n",
    "    samples = np.concatenate((rc, d, ra, alpha, h, rp), axis=0)\n",
    "    return samples  # (6, Ne, Nr)\n",
    "\n",
    "def beam_sampler(Nr):\n",
    "    qm_ratio = np.random.randn(1, Nr) * 1.003e4 + 5.5e5\n",
    "    return qm_ratio  # (1, Nr)\n",
    "\n",
    "def prop_sampler(Nr):\n",
    "    k = np.random.rand(1, Nr) * (1.39 - 1.147) + 1.147\n",
    "    gamma = np.random.rand(1, Nr) * (5.045e-2 - 5.003e-2) + 5.003e-2\n",
    "    rho = np.random.rand(1, Nr) * (1.284e3 - 1.28e3) + 1.28e3\n",
    "    mu = np.random.rand(1, Nr) * (3.416e-2 - 2.612e-2) + 2.612e-2\n",
    "    props = np.concatenate((k, gamma, rho, mu), axis=0)\n",
    "    return props  # (4, Nr)\n",
    "\n",
    "def subs_sampler(Nr):\n",
    "    # rpr = np.random.rand(1, Nr) * (8e-6 - 5e-6) + 5e-6\n",
    "    rpr = np.ones((1, Nr)) * 8e-6\n",
    "    kappa = np.random.randn(1, Nr) * 6.04e-15 + 1.51e-13\n",
    "    subs = np.concatenate((rpr, kappa), axis=0)\n",
    "    return subs  # (2, Nr)"
   ],
   "metadata": {
    "collapsed": false,
    "pycharm": {
     "name": "#%%\n"
    }
   }
  },
  {
   "cell_type": "code",
   "execution_count": 3,
   "outputs": [],
   "source": [
    "Nr = 100  # number of realizations\n",
    "Ne = 576  # number of emitters\n",
    "Nv = 50  # number of voltages to evaluate at\n",
    "\n",
    "# Model parameters (zeta_1, zeta_2, b_0)\n",
    "# params = np.array([2.71, 1.94e-2, 1.93e-5])\n",
    "# params = np.array([2.71, 0.0155, 1.88e-5])\n",
    "params = np.array([2.57, 1.69e-2, 2e-5])\n",
    "\n",
    "# Voltage prediction locations\n",
    "voltage = np.linspace(800, 1840, Nv)\n",
    "\n",
    "# Nuisance parameters\n",
    "subs = subs_sampler(Nr)\n",
    "props = prop_sampler(Nr)\n",
    "beams = beam_sampler(Nr)\n",
    "# geoms = geom_sampler(Ne, Nr)\n",
    "#\n",
    "# # Get surrogate electric field solution\n",
    "# rc = geoms[0, :, :].flatten()\n",
    "# d = geoms[1, :, :].flatten()\n",
    "# ra = geoms[2, :, :].flatten()\n",
    "# alpha = geoms[3, :, :].flatten()\n",
    "# h = geoms[4, :, :].flatten()\n",
    "# x = np.vstack((d, rc, alpha, h, ra))\n",
    "#\n",
    "# V0 = 1000\n",
    "# Emax = forward(x, net_file='../lib/esi_surrogate.onnx', V0=V0)\n",
    "# es_model = Emax.reshape(1, Ne, Nr) / V0\n",
    "\n",
    "geoms = np.loadtxt('../data/mr_geoms.dat', dtype=float, delimiter='\\t').T.reshape(6, Ne, Nr)\n",
    "emax_sim = np.loadtxt('../data/mr_geoms_tipE.dat', dtype=float, delimiter='\\t').reshape(1, Ne, Nr)\n",
    "\n",
    "# rc = geoms[0, :, :].flatten()\n",
    "# d = geoms[1, :, :].flatten()\n",
    "# ra = geoms[2, :, :].flatten()\n",
    "# alpha = geoms[3, :, :].flatten()\n",
    "# h = geoms[4, :, :].flatten()\n",
    "# x = np.vstack((d, rc, alpha, h, ra))\n",
    "# V0 = 1000\n",
    "# emax_surr = forward(x, net_file='../lib/esi_surrogate.onnx', V0=V0) / V0\n",
    "# e_sim = emax_sim.flatten()\n",
    "# rel_error = np.divide(emax_surr - e_sim, e_sim) * 100\n",
    "# plt.figure()\n",
    "# plt.hist(rel_error, density=True, bins=50, edgecolor='black')\n",
    "# plt.xlabel('Relative error (%)')\n",
    "# plt.ylabel('PDF')\n",
    "# plt.show()"
   ],
   "metadata": {
    "collapsed": false,
    "pycharm": {
     "name": "#%%\n"
    }
   }
  },
  {
   "cell_type": "code",
   "execution_count": 6,
   "outputs": [
    {
     "data": {
      "text/plain": "<Figure size 432x288 with 1 Axes>",
      "image/png": "[encoded data removed]"
     },
     "metadata": {
      "needs_background": "light"
     },
     "output_type": "display_data"
    }
   ],
   "source": [
    "current = current_model(params, voltage, subs, props, beams, geoms, es_models=emax_sim)\n",
    "mean_curr = np.mean(current, axis=1)\n",
    "plt.figure()\n",
    "plt.plot(voltage, mean_curr)\n",
    "plt.xlabel('Voltage [V]')\n",
    "plt.ylabel('Current [A]')\n",
    "plt.show()"
   ],
   "metadata": {
    "collapsed": false,
    "pycharm": {
     "name": "#%%\n"
    }
   }
  },
  {
   "cell_type": "code",
   "execution_count": 90,
   "outputs": [],
   "source": [
    "exp_data = np.loadtxt('../data/training_data.txt', dtype=float, delimiter='\\t')\n",
    "# plt.figure()\n",
    "# plt.errorbar(exp_data[0, :], exp_data[1, :], yerr=np.sqrt(exp_data[2,:]), fmt='ko', markerfacecolor='none')\n",
    "# plt.xlabel('Voltage [V]')\n",
    "# plt.ylabel('Current [A]')\n",
    "# plt.show()\n",
    "\n",
    "params = np.loadtxt('../data/Nr100_noPr_samples__2021_12_07T11_41_27.txt', dtype=float, delimiter='\\t', skiprows=1)\n",
    "# fig, axs, gs = scatter_matrix([params], hist_plot=True, gamma=0.8, labels=[r'$\\zeta_1$',r'$\\zeta_2$',r'$b_0$'],\n",
    "#                                   specials=[{\"vals\":np.mean(params,axis=0),\"color\":'r'}])\n",
    "# fig.set_size_inches(7,7)\n",
    "# plt.subplots_adjust(left=0.01, right=0.99, wspace=0.1, hspace=0.1)"
   ],
   "metadata": {
    "collapsed": false,
    "pycharm": {
     "name": "#%%\n"
    }
   }
  },
  {
   "cell_type": "code",
   "execution_count": 123,
   "outputs": [],
   "source": [
    "def batch_normal_pdf(x, mu, cov):\n",
    "    \"\"\"\n",
    "    Compute the multivariate normal pdf at each x location.\n",
    "    Dimensions\n",
    "    ----------\n",
    "    d: dimension of the problem\n",
    "    *: any arbitrary shape (a1, a2, ...)\n",
    "    Parameters\n",
    "    ----------\n",
    "    x: (*, d) location to compute the multivariate normal pdf\n",
    "    mu: (*, d) mean values to use at each x location\n",
    "    cov: (d, d) covariance matrix, assumed same at all locations\n",
    "    Returns\n",
    "    -------\n",
    "    pdf: (*) the multivariate normal pdf at each x location\n",
    "    \"\"\"\n",
    "    # Make some checks on input\n",
    "    x = np.atleast_1d(x)\n",
    "    mu = np.atleast_1d(mu)\n",
    "    cov = np.atleast_1d(cov)\n",
    "    dim = cov.shape[0]\n",
    "\n",
    "    # 1-D case\n",
    "    if dim == 1:\n",
    "        cov = cov[:, np.newaxis]    # (1, 1)\n",
    "    if len(x.shape) == 1:\n",
    "        x = x[:, np.newaxis]\n",
    "    if len(mu.shape) == 1:\n",
    "        mu = mu[:, np.newaxis]\n",
    "\n",
    "    assert cov.shape[0] == cov.shape[1] == dim\n",
    "    assert x.shape[-1] == mu.shape[-1] == dim\n",
    "\n",
    "    # Normalizing constant (scalar)\n",
    "    preexp = 1 / ((2*np.pi)**(dim/2) * np.linalg.det(cov)**(1/2))\n",
    "\n",
    "    # In exponential\n",
    "    diff = x - mu  # can broadcast x - mu with x: (1, Nr, Nx, d) and mu: (Ns, Nr, Nx, d)\n",
    "    diff_col = diff.reshape((*diff.shape, 1))                       # (Ns, Nr, Nx, d, 1)\n",
    "    mat1 = np.linalg.inv(cov) @ diff_col                            # (d, d) x (*, d, 1) = (*, d, 1) broadcast matmult\n",
    "    diff_row = diff.reshape((*diff.shape[:-1], 1, diff.shape[-1]))  # (Ns, Nr, Nx, 1, d)\n",
    "    inexp = np.squeeze(diff_row @ mat1, axis=(-1, -2))              # (*, 1, d) x (*, d, 1) = (*, 1, 1)\n",
    "\n",
    "    # Compute the pdf\n",
    "    pdf = preexp * np.exp(-1/2 * inexp)\n",
    "    return pdf"
   ],
   "metadata": {
    "collapsed": false,
    "pycharm": {
     "name": "#%%\n"
    }
   }
  },
  {
   "cell_type": "code",
   "execution_count": 124,
   "outputs": [],
   "source": [
    "def batch_normal_sample(mean, cov, size: \"tuple | int\" = ()):\n",
    "    \"\"\"\n",
    "    Batch sample multivariate normal distribution.\n",
    "    https://stackoverflow.com/questions/69399035/is-there-a-way-of-batch-sampling-from-numpys-multivariate-normal-distribution-i\n",
    "    Arguments:\n",
    "        mean: expected values of shape (…M, D)\n",
    "        cov: covariance matrices of shape (…M, D, D)\n",
    "        size: additional batch shape (…B)\n",
    "    Returns: samples from the multivariate normal distributions\n",
    "             shape: (…B, …M, D)\n",
    "    \"\"\"\n",
    "    mean = np.asarray(mean)\n",
    "    cov = np.asarray(cov)\n",
    "    size = (size, ) if isinstance(size, int) else tuple(size)\n",
    "    shape = size + np.broadcast_shapes(mean.shape, cov.shape[:-1])\n",
    "    X = np.random.standard_normal((*shape, 1))\n",
    "    L = np.linalg.cholesky(cov)\n",
    "    return (L @ X).reshape(shape) + mean"
   ],
   "metadata": {
    "collapsed": false,
    "pycharm": {
     "name": "#%%\n"
    }
   }
  },
  {
   "cell_type": "code",
   "execution_count": 377,
   "outputs": [],
   "source": [
    "# Test batch sample and batch normal pdf\n",
    "# Nr = 100\n",
    "# Nx = 1000\n",
    "# mu = np.random.randint(-1, 3, (Nr, Nx, 2))\n",
    "# cov = np.array([[1, -0.5], [-0.5, 1]])\n",
    "# x = sample_batch_normal(mu, cov)\n",
    "#\n",
    "# from scipy.stats import multivariate_normal\n",
    "# import time\n",
    "# t1 = time.time()\n",
    "# r1 = batch_normal_pdf(x, mu, cov)\n",
    "# tol = 1e-6\n",
    "# print(f'Time 1: {time.time() - t1:.06f}')\n",
    "#\n",
    "# t2 = time.time()\n",
    "# for i1 in range(Nr):\n",
    "#     for i2 in range(Nx):\n",
    "#         r2 = multivariate_normal.pdf(x[i1, i2, :], mean=mu[i1, i2, :], cov=cov)\n",
    "#         # print(f'{mu[i1, i2, :]} {x[i1, i2, :]} {r1[i1, i2]} {r2}')\n",
    "#         if np.abs(r1[i1, i2] - r2) > tol:\n",
    "#             print('Buh oh')\n",
    "#\n",
    "# print(f'Time 2: {time.time() - t2:.06f}')"
   ],
   "metadata": {
    "collapsed": false,
    "pycharm": {
     "name": "#%%\n"
    }
   }
  },
  {
   "cell_type": "code",
   "execution_count": 126,
   "outputs": [],
   "source": [
    "# Nested monte carlo expected information gain estimator\n",
    "def eig_nmc(Ns, Nr, x_loc, theta_sampler, eta_sampler, model, noise_cov):\n",
    "    noise_cov = np.atleast_1d(noise_cov)\n",
    "    y_dim = noise_cov.shape[0]\n",
    "    def fix_input_shape(x):\n",
    "        \"\"\"Make input shape: (Nx, xdim)\n",
    "        Nx: number of experimental locations (inputs x) to evaluate at\n",
    "        xdim: dimension of a single experimental input x\n",
    "        \"\"\"\n",
    "        x = np.atleast_1d(x).astype(np.float32)\n",
    "        if len(x.shape) == 1:\n",
    "            # Assume one x dimension\n",
    "            x = x[:, np.newaxis]\n",
    "        elif len(x.shape) != 2:\n",
    "            raise Exception('Incorrect input dimension')\n",
    "        return x\n",
    "\n",
    "    def fix_theta_shape(theta):\n",
    "        \"\"\"Make theta shape: (Ns, Nx, theta_dim)\n",
    "        Ns: Number of samples of model parameters for each input x\n",
    "        Nx: number of experimental locations (inputs x) to evaluate at\n",
    "        theta_dim: Number of model parameters\n",
    "        \"\"\"\n",
    "        theta = np.atleast_1d(theta).astype(np.float32)\n",
    "        if len(theta.shape) == 1:\n",
    "            # Assume one model parameter and one location x\n",
    "            theta = theta[:, np.newaxis, np.newaxis]\n",
    "        elif len(theta.shape) == 2:\n",
    "            # Assume only one model parameter\n",
    "            theta = theta[:, :, np.newaxis]\n",
    "        elif len(theta.shape) != 3:\n",
    "            raise Exception('Incorrect input dimension')\n",
    "        return theta\n",
    "\n",
    "    def fix_eta_shape(eta):\n",
    "        \"\"\"Make eta shape: (Nr, Nx, eta_dim)\n",
    "        Use same set of Nr nuisance params for each theta\n",
    "        Nr: Number of realizations of nuisance params to use at each x location\n",
    "        Nx: number of experimental locations (inputs x) to evaluate at\n",
    "        theta_dim: Number of model parameters\n",
    "        \"\"\"\n",
    "        eta = np.atleast_1d(eta).astype(np.float32)\n",
    "        if len(eta.shape) == 1:\n",
    "            # Assume one dimension and one location x\n",
    "            eta = eta[:, np.newaxis, np.newaxis]\n",
    "        elif len(eta.shape) == 2:\n",
    "            # Assume only one parameter\n",
    "            eta = eta[:, :, np.newaxis]\n",
    "        elif len(eta.shape) != 3:\n",
    "            raise Exception('Incorrect input dimension')\n",
    "        return eta\n",
    "\n",
    "    # Experimental operating conditions x\n",
    "    x_loc = fix_input_shape(x_loc)  # (Nx, x_dim)\n",
    "    Nx, x_dim = x_loc.shape\n",
    "\n",
    "    # Sample the model parameters\n",
    "    theta_samples = fix_theta_shape(theta_sampler(Ns, Nx))  # (Ns, Nx, theta_dim)\n",
    "\n",
    "    # Sample the nuisance parameters\n",
    "    eta_samples = fix_eta_shape(eta_sampler(Nr, Nx))  # (Nr, Nx, eta_dim)\n",
    "\n",
    "    # Evaluate the model\n",
    "    g_theta = model(x_loc, theta_samples, eta_samples)  # (Ns, Nr, Nx, y_dim)\n",
    "    assert g_theta.shape == (Ns, Nr, Nx, y_dim)\n",
    "\n",
    "    # Get samples of y\n",
    "    y = batch_normal_sample(g_theta, noise_cov)  # (Ns, Nr, Nx, y_dim)\n",
    "\n",
    "    # Marginalize over nuisance parameters\n",
    "    likelihood = np.mean(batch_normal_pdf(y, g_theta, noise_cov), axis=1)  # (Ns, Nx)\n",
    "\n",
    "    # Compute evidence p(y|d) = integrate(p(y|theta, eta, d), (theta, eta))\n",
    "    evidence = np.zeros((Ns, Nx), dtype=np.float32)\n",
    "    print(f'Samples processed: {0} out of {Ns}')\n",
    "    for i in range(Ns):\n",
    "        y_i = y[np.newaxis, i, :, :, :]  # (1, Nr, Nx, y_dim)\n",
    "        like = batch_normal_pdf(y_i, g_theta, noise_cov)  # (Ns, Nr, Nx)\n",
    "        marginal_like = np.mean(like, axis=(0, 1))  # (Nx,)\n",
    "        evidence[i, :] = marginal_like\n",
    "        if ((i+1) % 100) == 0:\n",
    "            print(f'Samples processed: {i+1} out of {Ns}')\n",
    "\n",
    "    # Expected information gain\n",
    "    eig = np.mean(np.log(likelihood) - np.log(evidence), axis=0)  # (Nx,)\n",
    "    return eig"
   ],
   "metadata": {
    "collapsed": false,
    "pycharm": {
     "name": "#%%\n"
    }
   }
  },
  {
   "cell_type": "code",
   "execution_count": 135,
   "outputs": [
    {
     "data": {
      "text/plain": "<Figure size 432x288 with 1 Axes>",
      "image/png": "[encoded data removed]"
     },
     "metadata": {
      "needs_background": "light"
     },
     "output_type": "display_data"
    },
    {
     "name": "stdout",
     "output_type": "stream",
     "text": [
      "Theta: -1.516134162287278 Eta: 1.6108770149619416\n"
     ]
    }
   ],
   "source": [
    "# Test estimator on Linear-Gaussian model\n",
    "def linear_gaussian_model(x, theta, eta):\n",
    "    \"\"\"\n",
    "    Linear Gaussian model with analytical solution for eig:\n",
    "    [y1, y2] = [d, 0; 0, 1-d] * [theta, eta]\n",
    "    Parameters\n",
    "    ----------\n",
    "    x: (Nx, x_dim) input locations, or operating conditions\n",
    "    theta: (Ns, Nx, theta_dim) model parameters\n",
    "    eta: (Nr, Nx, eta_dim) nuisance parameters\n",
    "\n",
    "    Nr: Number of realizations of nuisance parameters\n",
    "    Ns: Number of samples of model parameters\n",
    "    Nx: Number of input locations\n",
    "    y_dim: Dimension of output\n",
    "    theta_dim: Dimension of model parameters\n",
    "    eta_dim: Dimension of nuisance parameters\n",
    "\n",
    "    Returns\n",
    "    -------\n",
    "    g_theta: (Ns, Nr, Nx, y_dim) model output\n",
    "    \"\"\"\n",
    "    Nx = x.shape[0]\n",
    "    Ns = theta.shape[0]\n",
    "    Nr = eta.shape[0]\n",
    "    dim = 2\n",
    "\n",
    "    y = np.zeros((Ns, Nr, Nx, dim))\n",
    "    y1 = x[np.newaxis, :, 0] * theta[:, :, 0]  # (1, Nx) * (Ns, Nx) = (Ns, Nx)\n",
    "    y1 = np.tile(y1[:, np.newaxis, :, np.newaxis], (1, Nr, 1, 1))  # (Ns, Nr, Nx, 1)\n",
    "    y2 = (1 - x[np.newaxis, :, 0]) * eta[:, :, 0]  # (1, Nx) * (Nr, Nx) = (Nr, Nx)\n",
    "    y2 = np.tile(y2[np.newaxis, :, :, np.newaxis], (Ns, 1, 1, 1))  # (Ns, Nr, Nx, 1)\n",
    "\n",
    "    y = np.concatenate((y1, y2), axis=3)  # (Ns, Nr, Nx, 2)\n",
    "    return y\n",
    "\n",
    "# Analytical solution for linear gaussian model\n",
    "def linear_gaussian_eig(d, var):\n",
    "    return 0.5 * np.log(1 + d ** 2 / var)\n",
    "\n",
    "def theta_sampler(Ns, Nx):\n",
    "    \"\"\" Sample model parameters\"\"\"\n",
    "    return np.random.randn(Ns, Nx, 1)\n",
    "\n",
    "def eta_sampler(Nr, Nx):\n",
    "    \"\"\" Sample nuisance parameters\"\"\"\n",
    "    return np.random.randn(Nr, Nx, 1)\n",
    "\n",
    "Nx = 50\n",
    "x_loc = np.linspace(0, 1, Nx).reshape((Nx, 1))\n",
    "theta = np.tile(theta_sampler(1, 1), (1, Nx, 1))\n",
    "eta = np.tile(eta_sampler(1, 1), (1, Nx, 1))\n",
    "\n",
    "y = linear_gaussian_model(x_loc, theta, eta)\n",
    "y = np.squeeze(y)\n",
    "plt.figure()\n",
    "plt.plot(x_loc, y[:,0], '-r')\n",
    "plt.plot(x_loc, y[:,1], '-b')\n",
    "plt.legend((r'$y_1$', r'$y_2$'))\n",
    "plt.xlabel('d')\n",
    "plt.ylabel('y')\n",
    "plt.show()\n",
    "print(f'Theta: {np.squeeze(theta)[0]} Eta: {np.squeeze(eta)[0]}')"
   ],
   "metadata": {
    "collapsed": false,
    "pycharm": {
     "name": "#%%\n"
    }
   }
  },
  {
   "cell_type": "code",
   "execution_count": 166,
   "outputs": [
    {
     "name": "stdout",
     "output_type": "stream",
     "text": [
      "Samples processed: 0 out of 200\n",
      "Samples processed: 100 out of 200\n",
      "Samples processed: 200 out of 200\n"
     ]
    }
   ],
   "source": [
    "Ns = 200\n",
    "Nr = 100\n",
    "Nx = 50\n",
    "x_loc = np.linspace(0, 1, Nx).reshape((Nx, 1))\n",
    "var = 0.001\n",
    "noise_cov = np.array([[var, 0], [0, var]])\n",
    "eig = eig_nmc(Ns, Nr, x_loc, theta_sampler, eta_sampler, linear_gaussian_model, noise_cov)"
   ],
   "metadata": {
    "collapsed": false,
    "pycharm": {
     "name": "#%%\n"
    }
   }
  },
  {
   "cell_type": "code",
   "execution_count": 167,
   "outputs": [],
   "source": [
    "eig_analytical = linear_gaussian_eig(x_loc, var)"
   ],
   "metadata": {
    "collapsed": false,
    "pycharm": {
     "name": "#%%\n"
    }
   }
  },
  {
   "cell_type": "code",
   "execution_count": 168,
   "outputs": [
    {
     "data": {
      "text/plain": "<Figure size 432x288 with 1 Axes>",
      "image/png": "[encoded data removed]"
     },
     "metadata": {
      "needs_background": "light"
     },
     "output_type": "display_data"
    }
   ],
   "source": [
    "plt.figure()\n",
    "plt.plot(x_loc, eig_analytical, '-k')\n",
    "plt.plot(x_loc, eig, '-r')\n",
    "plt.xlabel('d')\n",
    "plt.ylabel('Expected information gain')\n",
    "plt.legend((r'Analytical $U(d)$', r'$\\hat{U}^{NMC}(d)$'))\n",
    "plt.show()"
   ],
   "metadata": {
    "collapsed": false,
    "pycharm": {
     "name": "#%%\n"
    }
   }
  },
  {
   "cell_type": "code",
   "execution_count": null,
   "outputs": [],
   "source": [
    "Ns = 1000  # number of outer loop samples\n",
    "Nr = 100   # number of realizations\n",
    "Ne = 576   # number of emitters\n",
    "Nv = 50    # number of voltages to evaluate at\n",
    "\n",
    "# Voltage prediction locations\n",
    "voltage = np.linspace(800, 1850, Nv)\n",
    "noise_var = np.max(exp_data[2,:])\n",
    "\n",
    "# Nuisance parameters\n",
    "subs = subs_sampler(Nr)\n",
    "props = prop_sampler(Nr)\n",
    "beams = beam_sampler(Nr)\n",
    "geoms = np.loadtxt('../data/mr_geoms.dat', dtype=float, delimiter='\\t').T.reshape(6, Ne, Nr)\n",
    "emax_sim = np.loadtxt('../data/mr_geoms_tipE.dat', dtype=float, delimiter='\\t').reshape(1, Ne, Nr)\n",
    "\n",
    "# Model parameters\n",
    "model_params = np.loadtxt('../data/Nr100_noPr_samples__2021_12_07T11_41_27.txt', dtype=float, delimiter='\\t', skiprows=1)\n",
    "np.random.shuffle(model_params)"
   ],
   "metadata": {
    "collapsed": false,
    "pycharm": {
     "name": "#%%\n"
    }
   }
  },
  {
   "cell_type": "code",
   "execution_count": 34,
   "outputs": [],
   "source": [
    "y_i = np.random.randint(0, 3, (Ns, Nr, Nx, d))"
   ],
   "metadata": {
    "collapsed": false,
    "pycharm": {
     "name": "#%%\n"
    }
   }
  },
  {
   "cell_type": "code",
   "execution_count": 37,
   "outputs": [
    {
     "data": {
      "text/plain": "(1, 3, 4, 2)"
     },
     "execution_count": 37,
     "metadata": {},
     "output_type": "execute_result"
    }
   ],
   "source": [
    "y = y_i[np.newaxis, 0, :, :, :]\n",
    "y.shape"
   ],
   "metadata": {
    "collapsed": false,
    "pycharm": {
     "name": "#%%\n"
    }
   }
  },
  {
   "cell_type": "code",
   "execution_count": 87,
   "outputs": [],
   "source": [
    "import matplotlib.colors as plt_col\n",
    "from matplotlib import cm\n",
    "from matplotlib.gridspec import GridSpec\n",
    "import matplotlib.colors as mcolors\n",
    "\n",
    "def scatter_matrix(samples, #list of chains\n",
    "                   mins=None, maxs=None,\n",
    "                   upper_right=None,\n",
    "                   specials=None,\n",
    "                   hist_plot=True, # if false then only data\n",
    "                   nbins=200,\n",
    "                   gamma=0.5,\n",
    "                   labels=None,\n",
    "                   perf_metric=None,\n",
    "                   cmap='YlOrRd'):\n",
    "\n",
    "    nchains = len(samples)\n",
    "    dim = samples[0].shape[1]\n",
    "\n",
    "    if mins is None:\n",
    "        mins = np.zeros((dim))\n",
    "        maxs = np.zeros((dim))\n",
    "\n",
    "        for ii in range(dim):\n",
    "            # print(\"ii = \", ii)\n",
    "            mm = [np.quantile(samp[:, ii], 0.01, axis=0) for samp in samples]\n",
    "            # print(\"\\t mins = \", mm)\n",
    "            mins[ii] = np.min(mm)\n",
    "            mm = [np.quantile(samp[:, ii], 0.99, axis=0) for samp in samples]\n",
    "            # print(\"\\t maxs = \", mm)\n",
    "            maxs[ii] = np.max(mm)\n",
    "\n",
    "            if specials is not None:\n",
    "                if isinstance(specials, list):\n",
    "                    minspec = np.min([spec['vals'][ii] for spec in specials])\n",
    "                    maxspec = np.max([spec['vals'][ii] for spec in specials])\n",
    "                else:\n",
    "                    minspec = specials['vals'][ii]\n",
    "                    maxspec = specials['vals'][ii]\n",
    "                mins[ii] = min(mins[ii], minspec)\n",
    "                maxs[ii] = max(maxs[ii], maxspec)\n",
    "\n",
    "\n",
    "    deltas = (maxs - mins) / 10.0\n",
    "    use_mins = mins - deltas\n",
    "    use_maxs = maxs + deltas\n",
    "\n",
    "    cmuse = cm.get_cmap(name='jet')\n",
    "\n",
    "    fig = plt.figure()\n",
    "    if upper_right is None:\n",
    "        gs = GridSpec(dim, dim, figure=fig)\n",
    "        axs = [None]*dim*dim\n",
    "        start = 0\n",
    "        end = dim\n",
    "        l = dim\n",
    "    else:\n",
    "        gs = GridSpec(dim+1, dim+1, figure=fig)\n",
    "        axs = [None]*(dim+1)*(dim+1)\n",
    "        start = 1\n",
    "        end = dim + 1\n",
    "        l = dim+1\n",
    "\n",
    "    for ii in range(dim):\n",
    "        # print(\"ii = \", ii)\n",
    "        axs[ii] = fig.add_subplot(gs[ii+start, ii])\n",
    "        ax = axs[ii]\n",
    "\n",
    "        # Turn everythinng off\n",
    "        if ii < dim-1:\n",
    "            ax.tick_params(axis='x', bottom=False, top=False, labelbottom=False)\n",
    "        else:\n",
    "            ax.tick_params(axis='x', bottom=True, top=False, labelbottom=True)\n",
    "            if labels:\n",
    "                ax.set_xlabel(labels[ii])\n",
    "\n",
    "        ax.tick_params(axis='y', left=False, right=False, labelleft=False)\n",
    "        ax.set_frame_on(False)\n",
    "\n",
    "        sampii = np.concatenate([samples[kk][:, ii] for kk in range(nchains)])\n",
    "        for kk in range(nchains):\n",
    "            ax.hist(sampii,\n",
    "                    # ax.hist(samples[kk][:, ii],\n",
    "                    bins='sturges',\n",
    "                    density=True,\n",
    "                    edgecolor='black',\n",
    "                    stacked=True,\n",
    "                    range=(use_mins[ii],use_maxs[ii]),\n",
    "                    alpha=0.4)\n",
    "        if specials is not None:\n",
    "            for special in specials:\n",
    "                if special['vals'][ii] is not None:\n",
    "                    # ax.axvline(special[ii], color='red', lw=2)\n",
    "                    if 'color' in special:\n",
    "                        ax.axvline(special['vals'][ii], color=special['color'], lw=2)\n",
    "#                         ax.axvline(special['vals2'][ii], color=special['color2'], lw=2)\n",
    "                    else:\n",
    "                        ax.axvline(special['vals'][ii], lw=2)\n",
    "\n",
    "        ax.set_xlim((use_mins[ii]-1e-10, use_maxs[ii]+1e-10))\n",
    "\n",
    "        for jj in range(ii+1, dim):\n",
    "            # print(\"jj = \", jj)\n",
    "            axs[jj*l + ii] = fig.add_subplot(gs[jj+start, ii])\n",
    "            ax = axs[jj*l + ii]\n",
    "\n",
    "\n",
    "            if jj < dim-1:\n",
    "                ax.tick_params(axis='x', bottom=False, top=False, labelbottom=False)\n",
    "            else:\n",
    "                ax.tick_params(axis='x', bottom=True, top=False, labelbottom=True)\n",
    "                if labels:\n",
    "                    ax.set_xlabel(labels[ii])\n",
    "                    # ax.xaxis.set_major_formatter(FormatStrFormatter('%.0f'))\n",
    "                    # ticks_loc = ax.get_xticks().tolist()\n",
    "                    # ax.xaxis.set_major_locator(mticker.FixedLocator(ticks_loc))\n",
    "                    # ax.set_xticklabels(['{:.0f}'.format(x) for x in ticks_loc])\n",
    "            if ii > 0:\n",
    "                ax.tick_params(axis='y', left=False, right=False, labelleft=False)\n",
    "            else:\n",
    "                ax.tick_params(axis='y', left=True, right=False, labelleft=True)\n",
    "                if labels:\n",
    "                    ax.set_ylabel(labels[jj])\n",
    "                    # ax.yaxis.set_major_formatter(FormatStrFormatter('%.0f'))\n",
    "                    # ticks_loc = ax.get_yticks().tolist()\n",
    "                    # ax.yaxis.set_major_locator(mticker.FixedLocator(ticks_loc))\n",
    "                    # ax.set_yticklabels(['{:.0f}'.format(y) for y in ticks_loc])\n",
    "\n",
    "            ax.set_frame_on(True)\n",
    "\n",
    "            for kk in range(nchains):\n",
    "                if hist_plot is True:\n",
    "                    ax.hist2d(samples[kk][:, ii], samples[kk][:, jj],\n",
    "                              bins=nbins,\n",
    "                              norm=mcolors.PowerNorm(gamma),\n",
    "                              density=True,\n",
    "                              cmap=cmuse)\n",
    "                else:\n",
    "                    if perf_metric is not None:\n",
    "                        # alphas = np.ones(len(perf_metric))\n",
    "                        # alphas[np.argwhere(perf_metric < 50)] = 0.2\n",
    "                        sc = ax.scatter(samples[kk][:, ii], samples[kk][:, jj], s=1.5*np.ones(len(perf_metric)), c=perf_metric, cmap=cmap, norm=plt_col.LogNorm(vmin=1, vmax=np.max(perf_metric)), alpha=1)\n",
    "                    else:\n",
    "                        ax.plot(samples[kk][:, ii], samples[kk][:, jj], 'o', ms=1, alpha=gamma)\n",
    "\n",
    "                # ax.hist2d(samples[kk][:, ii], samples[kk][:, jj], bins=nbins)\n",
    "\n",
    "            if specials is not None:\n",
    "                for special in specials:\n",
    "                    if 'color' in special:\n",
    "                        ax.plot(special['vals'][ii], special['vals'][jj], 'x',\n",
    "                                color=special['color'], ms=4, mew=2)\n",
    "#                         ax.plot(special['vals2'][ii], special['vals2'][jj], 'x',\n",
    "#                                 color=special['color2'], ms=4, mew=2)\n",
    "                    else:\n",
    "                        ax.plot(special['vals'][ii], special['vals'][jj], 'x',\n",
    "                                ms=4, mew=2)\n",
    "\n",
    "            ax.set_xlim((use_mins[ii], use_maxs[ii]))\n",
    "            ax.set_ylim((use_mins[jj]-1e-10, use_maxs[jj]+1e-10))\n",
    "\n",
    "    plt.tight_layout(pad=0.01)\n",
    "    if upper_right is not None:\n",
    "        size_ur = int(dim/2)\n",
    "\n",
    "        name = upper_right['name']\n",
    "        vals = upper_right['vals']\n",
    "        if 'log_transform' in upper_right:\n",
    "            log_transform = upper_right['log_transform']\n",
    "        else:\n",
    "            log_transform = None\n",
    "        ax = fig.add_subplot(gs[0:int(dim/2),\n",
    "                                size_ur+1:size_ur+int(dim/2)+1])\n",
    "\n",
    "        lb = np.min([np.quantile(val, 0.01) for val in vals])\n",
    "        ub = np.max([np.quantile(val, 0.99) for val in vals])\n",
    "        for kk in range(nchains):\n",
    "            if log_transform is not None:\n",
    "                pv = np.log10(vals[kk])\n",
    "                ra = (np.log10(lb), np.log10(ub))\n",
    "            else:\n",
    "                pv = vals[kk]\n",
    "                ra = (lb, ub)\n",
    "            ax.hist(pv,\n",
    "                    density=True,\n",
    "                    range=ra,\n",
    "                    edgecolor='black',\n",
    "                    stacked=True,\n",
    "                    bins='auto',\n",
    "                    alpha=0.2)\n",
    "        ax.tick_params(axis='x', bottom='both', top=False, labelbottom=True)\n",
    "        ax.tick_params(axis='y', left='both', right=False, labelleft=False)\n",
    "        ax.set_frame_on(True)\n",
    "        ax.set_xlabel(name)\n",
    "    plt.subplots_adjust(left=0.15, right=0.95)\n",
    "    return fig, axs, gs"
   ],
   "metadata": {
    "collapsed": false,
    "pycharm": {
     "name": "#%%\n"
    }
   }
  },
  {
   "cell_type": "code",
   "execution_count": null,
   "outputs": [],
   "source": [],
   "metadata": {
    "collapsed": false,
    "pycharm": {
     "name": "#%%\n"
    }
   }
  }
 ],
 "metadata": {
  "kernelspec": {
   "display_name": "Python 3",
   "language": "python",
   "name": "python3"
  },
  "language_info": {
   "codemirror_mode": {
    "name": "ipython",
    "version": 2
   },
   "file_extension": ".py",
   "mimetype": "text/x-python",
   "name": "python",
   "nbconvert_exporter": "python",
   "pygments_lexer": "ipython2",
   "version": "2.7.6"
  }
 },
 "nbformat": 4,
 "nbformat_minor": 0
}